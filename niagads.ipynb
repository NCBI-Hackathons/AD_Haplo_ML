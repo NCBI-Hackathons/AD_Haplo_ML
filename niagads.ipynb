{
 "cells": [
  {
   "cell_type": "markdown",
   "metadata": {},
   "source": [
    "The goal of this notebook is to join all of the different datasets into one giant matrix which can then be fed into the autoencoder. To start, let's look at each dataset that we have."
   ]
  },
  {
   "cell_type": "markdown",
   "metadata": {},
   "source": [
    "### Only run bash block if files need to be parsed properly (shouldn't happen)"
   ]
  },
  {
   "cell_type": "code",
   "execution_count": 8,
   "metadata": {},
   "outputs": [],
   "source": [
    "%%bash\n",
    "#head -n 10 ng00061/WES_release3AtlasOnly_vep80_most_severe_consequence_per_gene.txt\n",
    "# These have different numbers of columns of course. Need to fix this maybe? Will only use the coordinates from this\n",
    "# for now, this is the primary key to link all the other datasets.\n",
    "#head -n 10 ng00061/WES_release3AtlasOnly_rolling_flat_annotation.txt\n",
    "#cut -f1-5 WGS_v1_rolling_flat_annotation.txt > WGS_v1_rolling_flat_annotation.pos_only.txt\n",
    "\n",
    "#head -n 10 ../IGAP_summary_statistics/IGAP_stage_1_2_combined.txt\n",
    "\n",
    "# I will join all of the chromosomes into one file.\n",
    "#cat /home/twaddlac/Hackthan_AD/ng00039/pvalue_only/metaanalysis/pvalueonly_METAANALYSIS1_chr*.TBL | perl -pe 's/^(\\d+)-(\\d+)/$1\\t$2/g' > pvalue_only.tsv\n",
    "#head -n 10 ../pvalue_only.tsv\n",
    "\n",
    "#I'm not sure what the difference is between these but I am assuming we get the inverse of controls here.\n",
    "# We will use the controls for a confusion matrix\n",
    "#ls /data/Hackthan_AD/Mayo_eGWAS/\n",
    "#head /data/Hackthan_AD/Mayo_eGWAS/Hap300_CER_All.txt\n",
    "\n",
    "# Only going to use the coordinates of the annotation files since they have mismatching columns.\n",
    "##### Only run this once #####\n",
    "#cut -f1-5 /data/Hackthan_AD/NG00061/WGS_v1_rolling_flat_annotation.txt > /data/Hackthan_AD/NG00061/WGS_v1_rolling_flat_annotation.pos_only.txt\n",
    "\n",
    "## only need to run once\n",
    "#cat <(grep -m1 '^Marker' /home/twaddlac/Hackthan_AD/ng00039/pvalue_only/pvalue/pvalueonly_METAANALYSIS1_chr10.TBL) <(cat /home/twaddlac/Hackthan_AD/ng00039/pvalue_only/pvalue/*TBL | perl -pe 's/(\\d+)-(\\d+)/$1\\t$2/g'| grep -v '^Marker') > /home/twaddlac/Hackthan_AD/ng00039/pvalue_only/pvalue/pvalue.tsv"
   ]
  },
  {
   "cell_type": "markdown",
   "metadata": {},
   "source": [
    "## IGAP Data"
   ]
  },
  {
   "cell_type": "code",
   "execution_count": 9,
   "metadata": {},
   "outputs": [],
   "source": [
    "import pandas as pd\n",
    "igap1 = pd.read_csv('/data/Hackthan_AD/IGAP_summary_statistics/IGAP_stage_1.txt', sep='\\t')\n",
    "igap12 = pd.read_csv('/data/Hackthan_AD/IGAP_summary_statistics/IGAP_stage_1_2_combined.txt', sep='\\t')\n",
    "igap1.rename(columns={\n",
    "    'Chromosome':'chr',\n",
    "    'Position':'pos'\n",
    "}, inplace=True)\n",
    "igap12.rename(columns={\n",
    "    'Chromosome':'chr',\n",
    "    'Position':'pos'\n",
    "}, inplace=True)"
   ]
  },
  {
   "cell_type": "markdown",
   "metadata": {},
   "source": [
    "## NG00061"
   ]
  },
  {
   "cell_type": "code",
   "execution_count": 10,
   "metadata": {},
   "outputs": [],
   "source": [
    "anno = pd.read_csv('/data/Hackthan_AD/NG00061/WGS_v1_rolling_flat_annotation.pos_only.txt', sep='\\t', header=0)"
   ]
  },
  {
   "cell_type": "code",
   "execution_count": 11,
   "metadata": {},
   "outputs": [],
   "source": [
    "conseq = pd.read_csv('/data/Hackthan_AD/NG00061/WGS_v1_vep80_most_severe_consequence_per_gene.txt', sep='\\t', header=0)"
   ]
  },
  {
   "cell_type": "markdown",
   "metadata": {},
   "source": [
    "## NG00039"
   ]
  },
  {
   "cell_type": "code",
   "execution_count": null,
   "metadata": {},
   "outputs": [],
   "source": [
    "pvalue = pd.read_csv('/home/twaddlac/Hackthan_AD/ng00039/pvalue_only/pvalue/pvalue.tsv', sep='\\t', header=0, index_col=False)\n",
    "# pvalue.columns = ['chr','pos','allele1','allele2','pvalue']"
   ]
  },
  {
   "cell_type": "markdown",
   "metadata": {},
   "source": [
    "## Mayo_eGWAS"
   ]
  },
  {
   "cell_type": "code",
   "execution_count": null,
   "metadata": {},
   "outputs": [],
   "source": [
    "hapCerAd = pd.read_csv('/home/twaddlac/Hackthan_AD/Mayo_eGWAS/Hap300_CER_AD.txt', sep='\\t', header=0)\n",
    "hapTxAd = pd.read_csv('/home/twaddlac/Hackthan_AD/Mayo_eGWAS/Hap300_TX_AD.txt', sep='\\t', header=0)\n",
    "hapmapCerAd = pd.read_csv('/home/twaddlac/Hackthan_AD/Mayo_eGWAS/HapMap2_CER_AD.txt', sep='\\t', header=0)\n",
    "hapmapTxAd = pd.read_csv('/home/twaddlac/Hackthan_AD/Mayo_eGWAS/HapMap2_TX_AD.txt', sep='\\t', header=0)\n",
    "\n",
    "hapCerAd.rename(columns={'CHR':'chr','BP':'pos'}, inplace=True)\n",
    "hapTxAd.rename(columns={'CHR':'chr','BP':'pos'}, inplace=True)\n",
    "hapmapCerAd.rename(columns={'CHR':'chr','BP':'pos'}, inplace=True)\n",
    "hapmapTxAd.rename(columns={'CHR':'chr','BP':'pos'}, inplace=True)"
   ]
  },
  {
   "cell_type": "markdown",
   "metadata": {},
   "source": [
    "## TBI Study Expression Data\n",
    "There's a lot more data for this dataset but we can import it later."
   ]
  },
  {
   "cell_type": "code",
   "execution_count": null,
   "metadata": {},
   "outputs": [],
   "source": [
    "ge = pd.read_csv('/home/twaddlac/Hackthan_AD/TBI_study/gene_expression_matrix_2016-03-03/fpkm_table_normalized.csv', sep=',', header=0)"
   ]
  },
  {
   "cell_type": "markdown",
   "metadata": {},
   "source": [
    "# Joining Datasets\n",
    "The file linking everything together will be the annotation data from NG00061 as it should hold the complete set of SNPs. I will use coordinates from this table to join."
   ]
  },
  {
   "cell_type": "code",
   "execution_count": null,
   "metadata": {},
   "outputs": [],
   "source": [
    "headers = ['chr','pos']\n",
    "temp = anno.merge(pvalue, how='left', left_on=headers, right_on=headers)"
   ]
  },
  {
   "cell_type": "code",
   "execution_count": null,
   "metadata": {
    "scrolled": true
   },
   "outputs": [
    {
     "data": {
      "text/html": [
       "<div>\n",
       "<style scoped>\n",
       "    .dataframe tbody tr th:only-of-type {\n",
       "        vertical-align: middle;\n",
       "    }\n",
       "\n",
       "    .dataframe tbody tr th {\n",
       "        vertical-align: top;\n",
       "    }\n",
       "\n",
       "    .dataframe thead th {\n",
       "        text-align: right;\n",
       "    }\n",
       "</style>\n",
       "<table border=\"1\" class=\"dataframe\">\n",
       "  <thead>\n",
       "    <tr style=\"text-align: right;\">\n",
       "      <th></th>\n",
       "      <th>chr</th>\n",
       "      <th>pos</th>\n",
       "      <th>alt_allele</th>\n",
       "      <th>seq_meta_var_id</th>\n",
       "      <th>epacts_var_id</th>\n",
       "      <th>Allele1</th>\n",
       "      <th>Allele2</th>\n",
       "      <th>P-value</th>\n",
       "    </tr>\n",
       "  </thead>\n",
       "  <tbody>\n",
       "    <tr>\n",
       "      <th>0</th>\n",
       "      <td>10</td>\n",
       "      <td>60494</td>\n",
       "      <td>G</td>\n",
       "      <td>10:60494A,G</td>\n",
       "      <td>10:60494_A/G</td>\n",
       "      <td>a</td>\n",
       "      <td>g</td>\n",
       "      <td>0.3242</td>\n",
       "    </tr>\n",
       "    <tr>\n",
       "      <th>1</th>\n",
       "      <td>10</td>\n",
       "      <td>60523</td>\n",
       "      <td>G</td>\n",
       "      <td>10:60523T,G</td>\n",
       "      <td>10:60523_T/G</td>\n",
       "      <td>t</td>\n",
       "      <td>g</td>\n",
       "      <td>0.3721</td>\n",
       "    </tr>\n",
       "    <tr>\n",
       "      <th>2</th>\n",
       "      <td>10</td>\n",
       "      <td>61331</td>\n",
       "      <td>G</td>\n",
       "      <td>10:61331A,G</td>\n",
       "      <td>10:61331_A/G</td>\n",
       "      <td>a</td>\n",
       "      <td>g</td>\n",
       "      <td>0.7516</td>\n",
       "    </tr>\n",
       "    <tr>\n",
       "      <th>3</th>\n",
       "      <td>10</td>\n",
       "      <td>61334</td>\n",
       "      <td>A</td>\n",
       "      <td>10:61334G,A</td>\n",
       "      <td>10:61334_G/A</td>\n",
       "      <td>NaN</td>\n",
       "      <td>NaN</td>\n",
       "      <td>NaN</td>\n",
       "    </tr>\n",
       "    <tr>\n",
       "      <th>4</th>\n",
       "      <td>10</td>\n",
       "      <td>61646</td>\n",
       "      <td>G</td>\n",
       "      <td>10:61646A,G</td>\n",
       "      <td>10:61646_A/G</td>\n",
       "      <td>NaN</td>\n",
       "      <td>NaN</td>\n",
       "      <td>NaN</td>\n",
       "    </tr>\n",
       "  </tbody>\n",
       "</table>\n",
       "</div>"
      ],
      "text/plain": [
       "   chr    pos alt_allele seq_meta_var_id epacts_var_id Allele1 Allele2  \\\n",
       "0   10  60494          G     10:60494A,G  10:60494_A/G       a       g   \n",
       "1   10  60523          G     10:60523T,G  10:60523_T/G       t       g   \n",
       "2   10  61331          G     10:61331A,G  10:61331_A/G       a       g   \n",
       "3   10  61334          A     10:61334G,A  10:61334_G/A     NaN     NaN   \n",
       "4   10  61646          G     10:61646A,G  10:61646_A/G     NaN     NaN   \n",
       "\n",
       "   P-value  \n",
       "0   0.3242  \n",
       "1   0.3721  \n",
       "2   0.7516  \n",
       "3      NaN  \n",
       "4      NaN  "
      ]
     },
     "execution_count": 16,
     "metadata": {},
     "output_type": "execute_result"
    }
   ],
   "source": [
    "temp.head()"
   ]
  },
  {
   "cell_type": "code",
   "execution_count": null,
   "metadata": {},
   "outputs": [],
   "source": [
    "from functools import reduce\n",
    "dataframes = [\n",
    "    anno,\n",
    "    pvalue,\n",
    "    conseq,\n",
    "    igap1,\n",
    "    igap12,\n",
    "    hapCerAd,\n",
    "    hapTxAd,\n",
    "    hapmapCerAd,\n",
    "    hapmapTxAd\n",
    "]\n",
    "df_merged = reduce(lambda  left,right: pd.merge(left,right,on=['chr','pos'],\n",
    "                                            how='outer'), dataframes).fillna('void')"
   ]
  },
  {
   "cell_type": "code",
   "execution_count": null,
   "metadata": {},
   "outputs": [],
   "source": []
  }
 ],
 "metadata": {
  "kernelspec": {
   "display_name": "Python 3",
   "language": "python",
   "name": "python3"
  },
  "language_info": {
   "codemirror_mode": {
    "name": "ipython",
    "version": 3
   },
   "file_extension": ".py",
   "mimetype": "text/x-python",
   "name": "python",
   "nbconvert_exporter": "python",
   "pygments_lexer": "ipython3",
   "version": "3.7.3"
  },
  "latex_envs": {
   "bibliofile": "biblio.bib",
   "cite_by": "apalike",
   "current_citInitial": 1,
   "eqLabelWithNumbers": true,
   "eqNumInitial": 0
  }
 },
 "nbformat": 4,
 "nbformat_minor": 2
}
